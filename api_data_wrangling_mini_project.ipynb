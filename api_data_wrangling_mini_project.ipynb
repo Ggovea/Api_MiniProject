{
 "cells": [
  {
   "cell_type": "markdown",
   "metadata": {},
   "source": [
    "This exercise will require you to pull some data from the Qunadl API. Qaundl is currently the most widely used aggregator of financial market data."
   ]
  },
  {
   "cell_type": "markdown",
   "metadata": {},
   "source": [
    "As a first step, you will need to register a free account on the http://www.quandl.com website."
   ]
  },
  {
   "cell_type": "markdown",
   "metadata": {},
   "source": [
    "After you register, you will be provided with a unique API key, that you should store:"
   ]
  },
  {
   "cell_type": "code",
   "execution_count": 10,
   "metadata": {},
   "outputs": [],
   "source": [
    "# Store the API key as a string - according to PEP8, constants are always named in all upper case\n",
    "API_KEY = 'hZgYBRB6zZsCSJ4Z5_tq'"
   ]
  },
  {
   "cell_type": "markdown",
   "metadata": {},
   "source": [
    "Qaundl has a large number of data sources, but, unfortunately, most of them require a Premium subscription. Still, there are also a good number of free datasets."
   ]
  },
  {
   "cell_type": "markdown",
   "metadata": {},
   "source": [
    "For this mini project, we will focus on equities data from the Frankfurt Stock Exhange (FSE), which is available for free. We'll try and analyze the stock prices of a company called Carl Zeiss Meditec, which manufactures tools for eye examinations, as well as medical lasers for laser eye surgery: https://www.zeiss.com/meditec/int/home.html. The company is listed under the stock ticker AFX_X."
   ]
  },
  {
   "cell_type": "markdown",
   "metadata": {},
   "source": [
    "You can find the detailed Quandl API instructions here: https://docs.quandl.com/docs/time-series"
   ]
  },
  {
   "cell_type": "markdown",
   "metadata": {},
   "source": [
    "While there is a dedicated Python package for connecting to the Quandl API, we would prefer that you use the *requests* package, which can be easily downloaded using *pip* or *conda*. You can find the documentation for the package here: http://docs.python-requests.org/en/master/ "
   ]
  },
  {
   "cell_type": "markdown",
   "metadata": {},
   "source": [
    "Finally, apart from the *requests* package, you are encouraged to not use any third party Python packages, such as *pandas*, and instead focus on what's available in the Python Standard Library (the *collections* module might come in handy: https://pymotw.com/3/collections/ ).\n",
    "Also, since you won't have access to DataFrames, you are encouraged to us Python's native data structures - preferably dictionaries, though some questions can also be answered using lists.\n",
    "You can read more on these data structures here: https://docs.python.org/3/tutorial/datastructures.html"
   ]
  },
  {
   "cell_type": "markdown",
   "metadata": {},
   "source": [
    "Keep in mind that the JSON responses you will be getting from the API map almost one-to-one to Python's dictionaries. Unfortunately, they can be very nested, so make sure you read up on indexing dictionaries in the documentation provided above."
   ]
  },
  {
   "cell_type": "code",
   "execution_count": 11,
   "metadata": {},
   "outputs": [],
   "source": [
    "# First, import the relevant modules\n",
    "import requests as rqs\n"
   ]
  },
  {
   "cell_type": "code",
   "execution_count": 12,
   "metadata": {},
   "outputs": [],
   "source": [
    "# Now, call the Quandl API and pull out a small sample of the data (only one day) to get a glimpse\n",
    "# into the JSON structure that will be returned\n",
    "url = 'https://www.quandl.com/api/v3/datasets/FSE/AFX_X?start_date={2016-09-19}&end_date={2019-09-19}&api_key=' + API_KEY \n",
    "data = rqs.get(url).json()"
   ]
  },
  {
   "cell_type": "code",
   "execution_count": 13,
   "metadata": {},
   "outputs": [
    {
     "data": {
      "text/plain": [
       "dict_keys(['dataset'])"
      ]
     },
     "execution_count": 13,
     "metadata": {},
     "output_type": "execute_result"
    }
   ],
   "source": [
    "# Inspect the JSON structure of the object you created, and take note of how nested it is,\n",
    "# as well as the overall structure\n",
    "data.keys()\n",
    "\n"
   ]
  },
  {
   "cell_type": "markdown",
   "metadata": {},
   "source": [
    "We can see that the file is actually a dictionary that has only one key: `'dataset'`The value related with this key is another dictionary with the following keys:"
   ]
  },
  {
   "cell_type": "code",
   "execution_count": 14,
   "metadata": {},
   "outputs": [
    {
     "data": {
      "text/plain": [
       "dict_keys(['id', 'dataset_code', 'database_code', 'name', 'description', 'refreshed_at', 'newest_available_date', 'oldest_available_date', 'column_names', 'frequency', 'type', 'premium', 'limit', 'transform', 'column_index', 'start_date', 'end_date', 'data', 'collapse', 'order', 'database_id'])"
      ]
     },
     "execution_count": 14,
     "metadata": {},
     "output_type": "execute_result"
    }
   ],
   "source": [
    "#Keys that are inside the 'dataset' dictionary\n",
    "data['dataset'].keys()"
   ]
  },
  {
   "cell_type": "markdown",
   "metadata": {},
   "source": [
    "We are interested in two particular keys: the `'data'` whose value contains the different prices as a list of lists and the `'column_names'`key, that is related to a list that classifies the data and let us know what type of price or information is presented in the `'data'` list. "
   ]
  },
  {
   "cell_type": "markdown",
   "metadata": {},
   "source": [
    "These are your tasks for this mini project:\n",
    "\n",
    "1. Collect data from the Franfurt Stock Exchange, for the ticker AFX_X, for the whole year 2017 (keep in mind that the date format is YYYY-MM-DD).\n",
    "2. Convert the returned JSON object into a Python dictionary.\n",
    "3. Calculate what the highest and lowest opening prices were for the stock in this period.\n",
    "4. What was the largest change in any one day (based on High and Low price)?\n",
    "5. What was the largest change between any two days (based on Closing Price)?\n",
    "6. What was the average daily trading volume during this year?\n",
    "7. (Optional) What was the median trading volume during this year. (Note: you may need to implement your own function for calculating the median.)"
   ]
  },
  {
   "cell_type": "markdown",
   "metadata": {},
   "source": [
    "First, we read the required data. We already know that the file that is downloaded is presented as a dictionary with only one key: the `'dataset'` dictionary in which we will find two important entries: the `'column_names'` and the `'data'` elements. First we will show the column names and will assign them to the variable `col`:"
   ]
  },
  {
   "cell_type": "code",
   "execution_count": 15,
   "metadata": {},
   "outputs": [
    {
     "data": {
      "text/plain": [
       "['Date',\n",
       " 'Open',\n",
       " 'High',\n",
       " 'Low',\n",
       " 'Close',\n",
       " 'Change',\n",
       " 'Traded Volume',\n",
       " 'Turnover',\n",
       " 'Last Price of the Day',\n",
       " 'Daily Traded Units',\n",
       " 'Daily Turnover']"
      ]
     },
     "execution_count": 15,
     "metadata": {},
     "output_type": "execute_result"
    }
   ],
   "source": [
    "#Reading 2017 data\n",
    "url = 'https://www.quandl.com/api/v3/datasets/FSE/AFX_X?start_date={2017-01-01}&end_date={2017-12-31}&api_key=' + API_KEY \n",
    "data = rqs.get(url).json()\n",
    "col = data['dataset']['column_names']\n",
    "col\n",
    "\n"
   ]
  },
  {
   "cell_type": "markdown",
   "metadata": {},
   "source": [
    "We can see that, for every day, the file has eleven different values: `'Date'`, `'Open'`, `'High'`, `'Low'`, `'Close'`, `'Change'`, `'Traded Volume'`, `'Turnover'`, `'Last Price of the Day'`, `'Daily Traded Units'`, and `'Daily Turnover'`.\n",
    "\n",
    "First, we will use this `column_names` entry to create an index, afterwards, we will extract the `data` list."
   ]
  },
  {
   "cell_type": "markdown",
   "metadata": {},
   "source": [
    "Now, let us take a look at the data, we will use the variable `d` to store this information. As we can see below, `d` is a list that has more lists inside, one list per day. We show the last four days of december below:"
   ]
  },
  {
   "cell_type": "code",
   "execution_count": 16,
   "metadata": {},
   "outputs": [
    {
     "data": {
      "text/plain": [
       "[['2017-12-29',\n",
       "  51.76,\n",
       "  51.94,\n",
       "  51.45,\n",
       "  51.76,\n",
       "  None,\n",
       "  34640.0,\n",
       "  1792304.0,\n",
       "  None,\n",
       "  None,\n",
       "  None],\n",
       " ['2017-12-28',\n",
       "  51.65,\n",
       "  51.82,\n",
       "  51.43,\n",
       "  51.6,\n",
       "  None,\n",
       "  40660.0,\n",
       "  2099024.0,\n",
       "  None,\n",
       "  None,\n",
       "  None],\n",
       " ['2017-12-27',\n",
       "  51.45,\n",
       "  51.89,\n",
       "  50.76,\n",
       "  51.82,\n",
       "  None,\n",
       "  57452.0,\n",
       "  2957018.0,\n",
       "  None,\n",
       "  None,\n",
       "  None],\n",
       " ['2017-12-22',\n",
       "  51.05,\n",
       "  51.5,\n",
       "  50.92,\n",
       "  51.32,\n",
       "  None,\n",
       "  71165.0,\n",
       "  3641949.0,\n",
       "  None,\n",
       "  None,\n",
       "  None]]"
      ]
     },
     "execution_count": 16,
     "metadata": {},
     "output_type": "execute_result"
    }
   ],
   "source": [
    "#We get the data list from the 'dataset' dictionary\n",
    "d = data['dataset']['data']\n",
    "d[:4]"
   ]
  },
  {
   "cell_type": "markdown",
   "metadata": {},
   "source": [
    "It appears we have some values that are registered with the legend \"None\". Apparently, those values are `'Change'`, `'Last Price of the Day'`, `'Daily Traded Units'`, and `'Daily Turnover'`. Before analyzing anything, we must create an index that help us navigate in the data."
   ]
  },
  {
   "cell_type": "code",
   "execution_count": 66,
   "metadata": {},
   "outputs": [],
   "source": [
    "#Index variable\n",
    "ind = dict(zip(data['dataset']['column_names'], range(len(col))))"
   ]
  },
  {
   "cell_type": "markdown",
   "metadata": {},
   "source": [
    "Now, we can use the index to count the number of 'None' values and its location:"
   ]
  },
  {
   "cell_type": "code",
   "execution_count": 22,
   "metadata": {},
   "outputs": [
    {
     "data": {
      "text/plain": [
       "{'Date': 255,\n",
       " 'Open': 252,\n",
       " 'High': 255,\n",
       " 'Low': 255,\n",
       " 'Close': 255,\n",
       " 'Change': 1,\n",
       " 'Traded Volume': 255,\n",
       " 'Turnover': 255,\n",
       " 'Last Price of the Day': 0,\n",
       " 'Daily Traded Units': 0,\n",
       " 'Daily Turnover': 0}"
      ]
     },
     "execution_count": 22,
     "metadata": {},
     "output_type": "execute_result"
    }
   ],
   "source": [
    "none = {i:len([x[ind[i]] for x in d if x[ind[i]] != None]) for i in col}\n",
    "none"
   ]
  },
  {
   "cell_type": "markdown",
   "metadata": {},
   "source": [
    "We can see that there are some values that are registered as \"None\" for each day. Such is the case of `'Last Price of the Day'`, `'Daily Traded Units'`, and `'Daily Turnover'`. On the other hand, we an see that the `'Open'` column has three \"None\" values. It is interesting to see that the `'Change'`column has only one value that is not \"None\". We must see to what date it belongs to."
   ]
  },
  {
   "cell_type": "code",
   "execution_count": 48,
   "metadata": {},
   "outputs": [
    {
     "data": {
      "text/plain": [
       "'2017-05-01'"
      ]
     },
     "execution_count": 48,
     "metadata": {},
     "output_type": "execute_result"
    }
   ],
   "source": [
    "NegNone = [y for y in [x[ind['Change']] for x in d] if y != None]\n",
    "v = [x[ind['Change']] for x in d].index(NegNone[0])\n",
    "[x[ind['Date']] for x in d][v]\n",
    "\n"
   ]
  },
  {
   "cell_type": "markdown",
   "metadata": {},
   "source": [
    "The date above corresponds to the only non-Null value."
   ]
  },
  {
   "cell_type": "markdown",
   "metadata": {},
   "source": [
    "We will now write a set of functions in order to get the requested values. The main function will be called `analysis` and the return value will be a dictionary."
   ]
  },
  {
   "cell_type": "code",
   "execution_count": 59,
   "metadata": {},
   "outputs": [],
   "source": [
    "def median(x):\n",
    "    if len(x)%2:\n",
    "        m = x[int(len(x)/2)]\n",
    "    else:\n",
    "        m = (x[int(len(x)/2-1)] + x[int(len(x)/2)])/2\n",
    "    return m\n",
    "\n",
    "#List creator: choose the column from which you want to create a list.\n",
    "\n",
    "def analysis(value, month1, month2,days,wanted):\n",
    "    \"\"\"Function that computes Highest, lowest values, average and median for a specific time\n",
    "    inerval defined by de user.\n",
    "    Choose  Column name, first month, second month and space between days for analysis\"\"\"\n",
    "    \n",
    "    d2 = [x for x in d if (int(x[0][5:7])>=month1 and int(x[0][5:7])<=month2)]\n",
    "    dates = [a[ind['Date']] for a in d2]\n",
    "    values = [b[ind[value]]for b in d2]\n",
    "    \n",
    "    nulls = [dates[i] for i in range(len(values)) if values[i] == None]\n",
    "    nnvalues = [x for x in values if x != None]\n",
    "    changes = [nnvalues[i]-nnvalues[i-days] for i in range(days,len(nnvalues))]\n",
    "    \n",
    "    res = {'Name':value, 'Number of nulls':len(nulls), 'Number of  analyzed days':len(nnvalues), 'From':dates[0], 'To':dates[-1],\n",
    "    'Max':max(nnvalues), 'Min':min(nnvalues), 'Average':sum(nnvalues)/len(nnvalues), 'Median':median(nnvalues),\n",
    "    'Max_Change':max(changes), 'Min_change':min(changes)}\n",
    "    \n",
    "    return {i:res[i] for i in wanted}\n"
   ]
  },
  {
   "cell_type": "markdown",
   "metadata": {},
   "source": [
    "The functon above will allow us to compute each of the requested values.\n",
    "We must choose the values that will be presented: Such values are: 'Max', 'Min', 'Average', 'Median', 'Max_Change', 'Min_Change'"
   ]
  },
  {
   "cell_type": "markdown",
   "metadata": {},
   "source": [
    "## Highest and lowest opening prices:\n",
    "\n",
    "We will use our main function:"
   ]
  },
  {
   "cell_type": "code",
   "execution_count": 60,
   "metadata": {},
   "outputs": [
    {
     "data": {
      "text/plain": [
       "{'Max': 53.11, 'Min': 34.0}"
      ]
     },
     "execution_count": 60,
     "metadata": {},
     "output_type": "execute_result"
    }
   ],
   "source": [
    "analysis('Open', 1,12, 1,['Max','Min'])"
   ]
  },
  {
   "cell_type": "markdown",
   "metadata": {},
   "source": [
    "##  Largest change in one day in High and Low Prices:\n",
    "\n",
    "We must use the `analysis` function with the options \"High\" and \"Low\" respectively:\n",
    "\n"
   ]
  },
  {
   "cell_type": "code",
   "execution_count": 61,
   "metadata": {},
   "outputs": [
    {
     "data": {
      "text/plain": [
       "{'Max_Change': 2.809999999999995}"
      ]
     },
     "execution_count": 61,
     "metadata": {},
     "output_type": "execute_result"
    }
   ],
   "source": [
    "analysis('High',1,12,1,['Max_Change'])"
   ]
  },
  {
   "cell_type": "code",
   "execution_count": 62,
   "metadata": {},
   "outputs": [
    {
     "data": {
      "text/plain": [
       "{'Max_Change': 3.4399999999999977}"
      ]
     },
     "execution_count": 62,
     "metadata": {},
     "output_type": "execute_result"
    }
   ],
   "source": [
    "analysis('Low', 1,12,1,['Max_Change'])"
   ]
  },
  {
   "cell_type": "markdown",
   "metadata": {},
   "source": [
    "## Largest change between any two days in Closing Price\n",
    "\n",
    "This time, we use the analysis function choosing the option \"Close\" and changing the number of days to 2."
   ]
  },
  {
   "cell_type": "code",
   "execution_count": 63,
   "metadata": {},
   "outputs": [
    {
     "data": {
      "text/plain": [
       "{'Max_Change': 3.1499999999999986}"
      ]
     },
     "execution_count": 63,
     "metadata": {},
     "output_type": "execute_result"
    }
   ],
   "source": [
    "analysis('Close',1,12,2,['Max_Change'])"
   ]
  },
  {
   "cell_type": "markdown",
   "metadata": {},
   "source": [
    "## Average daily trading volume and median during this year\n",
    "\n",
    "We choose the option \"Traded Volume\" in the function and also choose the average and median options."
   ]
  },
  {
   "cell_type": "code",
   "execution_count": 75,
   "metadata": {},
   "outputs": [
    {
     "data": {
      "text/plain": [
       "{'Average': 94345.94736842105, 'Median': 132981.0}"
      ]
     },
     "execution_count": 75,
     "metadata": {},
     "output_type": "execute_result"
    }
   ],
   "source": [
    "analysis('Traded Volume',12,12,1,['Average','Median'])"
   ]
  }
 ],
 "metadata": {
  "kernelspec": {
   "display_name": "Python 3",
   "language": "python",
   "name": "python3"
  },
  "language_info": {
   "codemirror_mode": {
    "name": "ipython",
    "version": 3
   },
   "file_extension": ".py",
   "mimetype": "text/x-python",
   "name": "python",
   "nbconvert_exporter": "python",
   "pygments_lexer": "ipython3",
   "version": "3.8.5"
  }
 },
 "nbformat": 4,
 "nbformat_minor": 2
}
